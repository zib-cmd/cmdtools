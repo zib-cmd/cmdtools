{
 "cells": [
  {
   "cell_type": "markdown",
   "metadata": {},
   "source": [
    "# Tutorial: obtaining the Koopman generator via Newton's extrapolation"
   ]
  },
  {
   "cell_type": "markdown",
   "metadata": {},
   "source": [
    "This tutorial shows you how to compute the infinitesimal generator with the Newton's polynomial extrapolation.<br\\>\n",
    "First, load the modules we need. In addition to numpy and matplolib, we use the picking algorithm, Galerkin discretization for different lagtimes, Newton extrapolation, pcca+."
   ]
  },
  {
   "cell_type": "code",
   "execution_count": 1,
   "metadata": {},
   "outputs": [],
   "source": [
    "#standard libraries\n",
    "import numpy as np\n",
    "import matplotlib.pyplot as plt\n",
    "#from cmdtools\n",
    "from cmdtools.analysis import pcca\n",
    "from cmdtools.estimation import galerkin_taus_all, Newton_Npoints, picking_algorithm, centers_select_criteria"
   ]
  },
  {
   "cell_type": "markdown",
   "metadata": {},
   "source": [
    "Load the trajectory data from  the directory and the centers for the Gaussian membership fuctions computed with the picking algorithm.<br\\> We load the coordinates of the centers to make this tutorial faster. In case you want to vary the number of centers or to try by yourself how this algorthm works, uncomment the line below and comment the line that loads the centers coordinates. The picking algorithm requires a bit of time and we suggest you save the coordinates of your centers. "
   ]
  },
  {
   "cell_type": "code",
   "execution_count": 2,
   "metadata": {},
   "outputs": [
    {
     "ename": "FileNotFoundError",
     "evalue": "[Errno 2] No such file or directory: 'arr_0.npy'",
     "output_type": "error",
     "traceback": [
      "\u001b[1;31m---------------------------------------------------------------------------\u001b[0m",
      "\u001b[1;31mFileNotFoundError\u001b[0m                         Traceback (most recent call last)",
      "\u001b[1;32m<ipython-input-2-eb8aa8ca160c>\u001b[0m in \u001b[0;36m<module>\u001b[1;34m()\u001b[0m\n\u001b[0;32m      1\u001b[0m \u001b[1;31m#load trajectory  and centres\u001b[0m\u001b[1;33m\u001b[0m\u001b[1;33m\u001b[0m\u001b[0m\n\u001b[1;32m----> 2\u001b[1;33m \u001b[0mdiala\u001b[0m \u001b[1;33m=\u001b[0m \u001b[0mnp\u001b[0m\u001b[1;33m.\u001b[0m\u001b[0mload\u001b[0m\u001b[1;33m(\u001b[0m\u001b[1;34m\"arr_0.npy\"\u001b[0m\u001b[1;33m)\u001b[0m\u001b[1;33m\u001b[0m\u001b[0m\n\u001b[0m\u001b[0;32m      3\u001b[0m \u001b[0mcenters\u001b[0m\u001b[1;33m=\u001b[0m \u001b[0mnp\u001b[0m\u001b[1;33m.\u001b[0m\u001b[0mloadtxt\u001b[0m\u001b[1;33m(\u001b[0m\u001b[1;34m\"p_a_351centers.txt\"\u001b[0m\u001b[1;33m)\u001b[0m\u001b[1;33m\u001b[0m\u001b[0m\n\u001b[0;32m      4\u001b[0m \u001b[1;31m#uncomment to test the picking algorithm by yourself\u001b[0m\u001b[1;33m\u001b[0m\u001b[1;33m\u001b[0m\u001b[0m\n\u001b[0;32m      5\u001b[0m \u001b[1;31m#centers = picking_algorithm.picking_algorithm(diala[::25,:], 350)[1]\u001b[0m\u001b[1;33m\u001b[0m\u001b[1;33m\u001b[0m\u001b[0m\n",
      "\u001b[1;32m~\\Anaconda3\\lib\\site-packages\\numpy\\lib\\npyio.py\u001b[0m in \u001b[0;36mload\u001b[1;34m(file, mmap_mode, allow_pickle, fix_imports, encoding)\u001b[0m\n\u001b[0;32m    370\u001b[0m     \u001b[0mown_fid\u001b[0m \u001b[1;33m=\u001b[0m \u001b[1;32mFalse\u001b[0m\u001b[1;33m\u001b[0m\u001b[0m\n\u001b[0;32m    371\u001b[0m     \u001b[1;32mif\u001b[0m \u001b[0misinstance\u001b[0m\u001b[1;33m(\u001b[0m\u001b[0mfile\u001b[0m\u001b[1;33m,\u001b[0m \u001b[0mbasestring\u001b[0m\u001b[1;33m)\u001b[0m\u001b[1;33m:\u001b[0m\u001b[1;33m\u001b[0m\u001b[0m\n\u001b[1;32m--> 372\u001b[1;33m         \u001b[0mfid\u001b[0m \u001b[1;33m=\u001b[0m \u001b[0mopen\u001b[0m\u001b[1;33m(\u001b[0m\u001b[0mfile\u001b[0m\u001b[1;33m,\u001b[0m \u001b[1;34m\"rb\"\u001b[0m\u001b[1;33m)\u001b[0m\u001b[1;33m\u001b[0m\u001b[0m\n\u001b[0m\u001b[0;32m    373\u001b[0m         \u001b[0mown_fid\u001b[0m \u001b[1;33m=\u001b[0m \u001b[1;32mTrue\u001b[0m\u001b[1;33m\u001b[0m\u001b[0m\n\u001b[0;32m    374\u001b[0m     \u001b[1;32melif\u001b[0m \u001b[0mis_pathlib_path\u001b[0m\u001b[1;33m(\u001b[0m\u001b[0mfile\u001b[0m\u001b[1;33m)\u001b[0m\u001b[1;33m:\u001b[0m\u001b[1;33m\u001b[0m\u001b[0m\n",
      "\u001b[1;31mFileNotFoundError\u001b[0m: [Errno 2] No such file or directory: 'arr_0.npy'"
     ]
    }
   ],
   "source": [
    "#load trajectory  and centres  \n",
    "diala = np.load(\"arr_0.npy\")\n",
    "centers= np.loadtxt(\"p_a_351centers.txt\")\n",
    "#uncomment to test the picking algorithm by yourself\n",
    "#centers = picking_algorithm.picking_algorithm(diala[::25,:], 350)[1]\n",
    "# we reccomend to sort your centers so that you can visualize them later.\n",
    "centers= centers[centers[:, 0].argsort()]\n",
    "#np.savetxt('p_a_351centers.txt', centers)"
   ]
  },
  {
   "cell_type": "markdown",
   "metadata": {},
   "source": [
    "We visualize the position of the picked points in the state space.<br\\>\n",
    "You can see that this algorithm ensures that the sampling is localized in the region of of the state space covered by the trajectory. "
   ]
  },
  {
   "cell_type": "code",
   "execution_count": null,
   "metadata": {},
   "outputs": [],
   "source": [
    "plt.scatter( diala[::25, 0], diala[::25, 1], label= \"diala traj\")\n",
    "plt.scatter(centers[:, 0], centers[:, 1], label= \"centers\")\n",
    "plt.xlabel(\"$\\Phi$ [rad]\")\n",
    "plt.ylabel(\"$\\Psi$ [rad]\")\n",
    "plt.title(\"Dialanine and centers of the Gaussians\")\n",
    "plt.xlim(-np.pi, np.pi)\n",
    "plt.ylim(-np.pi, np.pi)\n",
    "plt.legend()\n",
    "plt.show()"
   ]
  },
  {
   "cell_type": "markdown",
   "metadata": {},
   "source": [
    "Now we have everything to compute the Koopman matrices via Galerkin discretization. We compute a set of transfer matrices for different multiples of a timestep $\\tau$. So first we set $\\tau$=5, but you can try to vary it as see how the results change. <br\\>\n",
    "We compute then the transfer matrix for $0,1,2,3,4$ times $\\tau$. We save it in a numpy array, whose first index $n$ indicates the $n\\cdot \\tau$ tagtime used to compute the Koopman matrix $K(n\\cdot \\tau)$. <br\\>\n",
    "We set the parameter $\\sigma$ for the variance of the Gaussian to $\\sigma=0.09$. "
   ]
  },
  {
   "cell_type": "code",
   "execution_count": null,
   "metadata": {},
   "outputs": [],
   "source": [
    "Koopman_mtx, m = galerkin_taus_all.propagator_tau(diala[::5,:], centers, 0.09, 4)"
   ]
  },
  {
   "cell_type": "markdown",
   "metadata": {},
   "source": [
    "With small numbers can be tricky, above all when normalizing. <br\\>\n",
    "That causes that in the first matrix $K(\\tau=0)$, the diagonal entry has not the biggest value. <br\\> \n",
    "This would mean that the observable \"without moving\" would most likely end up in a new region. This does not make sense and is just a numerical artefact.\n",
    " Our solution is to remove all the centers associated with this problem. <br\\>\n",
    "To facilitate the readibility, we define $S\\_$ = $K(\\tau=0)$. \n",
    "The $S\\_$ matrix stores the so called mass matrix. This matrix is the overlap of the basis functions.  In order to account for \"phantom transitions\" induced merely by\n",
    "this overlap and not the underlying dynamics, we pass this (optional) matrix to the pcca routine.\n"
   ]
  },
  {
   "cell_type": "code",
   "execution_count": null,
   "metadata": {},
   "outputs": [],
   "source": [
    "Koopman_mtx2, centers_kept = centers_select_criteria.centers_selection(Koopman_mtx)\n",
    "S_ = Koopman_mtx2[0, :, :]"
   ]
  },
  {
   "cell_type": "markdown",
   "metadata": {},
   "source": [
    "Now we can apply the Newton's polynomial extrapolation method to the set of Koopman matrices that we computed."
   ]
  },
  {
   "cell_type": "code",
   "execution_count": null,
   "metadata": {},
   "outputs": [],
   "source": [
    "#estimate generator\n",
    "\n",
    "Infgen = Newton_Npoints.Newton_N(Koopman_mtx2[:4], 1., 0)"
   ]
  },
  {
   "cell_type": "markdown",
   "metadata": {},
   "source": [
    "Last step: the dominant spectrum of the Koopman matrix $K(\\tau)$ and of the generator $Q$ is used as input for PCCA+. <br\\> This version of PCCA+ uses the Schur projection of the input matrix to computed the coarse graied dynamics. <br\\> .We observed obseved 4 clusters from an analysis of the Schurvalues, but you can try to vary the number of clusters and see how the results change.\n"
   ]
  },
  {
   "cell_type": "code",
   "execution_count": null,
   "metadata": {},
   "outputs": [],
   "source": [
    "chi, sorted_ew_k = pcca.pcca(Koopman_mtx2[1, :, :], 4, S_)\n",
    "#visualize pcca+ Koopman matrix \n",
    "plt.imshow( chi, aspect=\"auto\")\n",
    "plt.title(\"$\\chi$ from PCCA+ of the Koopman matrix\")\n",
    "plt.xticks(np.arange(0,np.shape(chi)[1]))\n",
    "plt.xlabel(\"Schurvalue\")\n",
    "plt.ylabel(\"center (enumerated)\")\n",
    "plt.colorbar()\n",
    "plt.show()"
   ]
  },
  {
   "cell_type": "code",
   "execution_count": null,
   "metadata": {},
   "outputs": [],
   "source": [
    "chi_infgen, sorted_ew_q= pcca.pcca(Infgen,4, S_)\n",
    "\n",
    "plt.imshow(chi_infgen, aspect= \"auto\")\n",
    "plt.colorbar()\n",
    "plt.title(\"$\\chi$ from PCCA+ of the generator matrix\")\n",
    "plt.xticks(np.arange(0,np.shape(chi)[1]))\n",
    "plt.xlabel(\"Schurvalue\")\n",
    "plt.ylabel(\"center (enumerated)\")\n",
    "plt.show()"
   ]
  },
  {
   "cell_type": "code",
   "execution_count": null,
   "metadata": {},
   "outputs": [],
   "source": [
    "\n",
    "#visualize with center belongs to which metastable state, in addition compare the results for the \n",
    "#PCCA+ applied to the transfer matrix and to the generator.\n",
    "colors = [\"b\",\"r\",\"gold\",\"g\", \"m\", \"purple\"]\n",
    "centers_1 = centers[centers_kept, :]\n",
    "plt.figure(figsize=(10, 4))\n",
    "plt.subplot(121)\n",
    "for i in range(np.shape(chi_infgen)[0]):\n",
    "    plt.scatter(centers_1[i, 0], centers_1[i, 1], color = colors[np.argmax(chi_infgen[i, :])])\n",
    "plt.xlabel(\"$\\Phi$ [rad]\")\n",
    "plt.ylabel(\"$\\Psi$ [rad]\")\n",
    "plt.title(\"Alanine Dipeptide, 4 Metastable States, $Q^c$\")\n",
    "plt.xlim(-np.pi, np.pi)\n",
    "\n",
    "plt.subplot(122)\n",
    "for i in range(np.shape(chi_infgen)[0]):\n",
    " \n",
    "    plt.scatter(centers_1[i, 0], centers_1[i, 1], color = colors[np.argmax(chi[i, :])])\n",
    "plt.xlabel(\"$\\Phi$ [rad]\")\n",
    "plt.ylabel(\"$\\Psi$ [rad]\")\n",
    "plt.title(\"Alanine Dipeptide, 4 Metastable States, $K^c$\")\n",
    "plt.xlim(-np.pi, np.pi)\n",
    "plt.show()"
   ]
  },
  {
   "cell_type": "markdown",
   "metadata": {},
   "source": [
    "The coarse grained generator can be obtained with $Q^c=\\chi^{-1}Q\\chi$"
   ]
  },
  {
   "cell_type": "code",
   "execution_count": null,
   "metadata": {},
   "outputs": [],
   "source": [
    "Q_c = np.linalg.pinv(chi_infgen).dot(Infgen.dot(chi_infgen))"
   ]
  },
  {
   "cell_type": "code",
   "execution_count": null,
   "metadata": {},
   "outputs": [],
   "source": []
  }
 ],
 "metadata": {
  "kernelspec": {
   "display_name": "Python 3",
   "language": "python",
   "name": "python3"
  },
  "language_info": {
   "codemirror_mode": {
    "name": "ipython",
    "version": 3
   },
   "file_extension": ".py",
   "mimetype": "text/x-python",
   "name": "python",
   "nbconvert_exporter": "python",
   "pygments_lexer": "ipython3",
   "version": "3.6.4"
  }
 },
 "nbformat": 4,
 "nbformat_minor": 2
}
